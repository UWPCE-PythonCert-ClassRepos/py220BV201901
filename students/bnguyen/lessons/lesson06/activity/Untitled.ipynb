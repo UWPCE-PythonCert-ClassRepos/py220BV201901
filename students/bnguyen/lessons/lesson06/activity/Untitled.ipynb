{
 "cells": [
  {
   "cell_type": "code",
   "execution_count": 2,
   "metadata": {},
   "outputs": [
    {
     "name": "stdout",
     "output_type": "stream",
     "text": [
      "/Users/bnguyen/py220BV201901/students/bnguyen/lessons/lesson06/activity/tests\n",
      "/Users/bnguyen/py220BV201901/students/bnguyen/lessons/lesson06/activity\n"
     ]
    }
   ],
   "source": [
    "import os\n",
    "\n",
    "dir_a=\"/Users/bnguyen/py220BV201901/students/bnguyen/lessons/lesson06/activity/tests/\"\n",
    "path_name1 = os.path.abspath(os.path.dirname(dir_a))\n",
    "path_name2 = os.path.dirname(os.path.abspath(dir_a))\n",
    "\n",
    "print(path_name1)\n",
    "print(path_name2)"
   ]
  }
 ],
 "metadata": {
  "kernelspec": {
   "display_name": "Python 3",
   "language": "python",
   "name": "python3"
  },
  "language_info": {
   "codemirror_mode": {
    "name": "ipython",
    "version": 3
   },
   "file_extension": ".py",
   "mimetype": "text/x-python",
   "name": "python",
   "nbconvert_exporter": "python",
   "pygments_lexer": "ipython3",
   "version": "3.7.0"
  }
 },
 "nbformat": 4,
 "nbformat_minor": 2
}
